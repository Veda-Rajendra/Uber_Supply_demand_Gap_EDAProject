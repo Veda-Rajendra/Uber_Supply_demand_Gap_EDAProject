{
  "nbformat": 4,
  "nbformat_minor": 0,
  "metadata": {
    "colab": {
      "name": "Uber_Supply_demand_gap_analysis.ipynb",
      "version": "0.3.2",
      "provenance": [],
      "collapsed_sections": []
    },
    "kernelspec": {
      "name": "python3",
      "display_name": "Python 3"
    }
  },
  "cells": [
    {
      "cell_type": "markdown",
      "metadata": {
        "id": "bksH8SOCA5F7",
        "colab_type": "text"
      },
      "source": [
        "#UBER SUPPLY DEMAND GAP\n",
        "####Business Objectives\n",
        "The aim of analysis is to identify the root cause of the problem (i.e. cancellation and non-availability of cars) and recommend ways to improve the situation. As a result of your analysis, you should be able to present to the client the root cause(s) and possible hypotheses of the problem(s) and recommend ways to improve them.\n",
        "\n",
        "####Data Understanding\n",
        "There are six attributes associated with each request made by a customer:\n",
        "\n",
        "Request id: A unique identifier of the request.\n",
        "\n",
        "Time of request: The date and time at which the customer made the trip request.\n",
        "\n",
        "Drop-off time: The drop-off date and time, in case the trip was completed.\n",
        "\n",
        "Pick-up point: The point from which the request was made.\n",
        "\n",
        "Driver id: The unique identification number of the driver.\n",
        "\n",
        "Status of the request: The final status of the trip, that can be either completed, cancelled by the driver or no cars available\n",
        "\n",
        "Note: For this assignment, only the trips to and from the airport are being considered.\n",
        "\n",
        "####Data Cleaning and Preparation - Hints\n",
        "\n",
        "Identify the data quality issues and clean the data so that you can use it for analysis.\n",
        "\n",
        "Ensure that the dates and time are in the proper format. Derive new variables which will be useful for analysis.\n",
        "\n",
        "####Results Expected\n",
        "Visually identify the most pressing problems for Uber.\n",
        "\n",
        "Hint: Create plots to visualise the frequency of requests that get cancelled or show 'no cars available';\n",
        "identify the most problematic types of requests (city to airport / airport to city etc.) and the time slots (early mornings, late evenings etc.) using plots\n",
        "\n",
        "Find out the gap between supply and demand and show the same using plots.\n",
        "\n",
        "Find the time slots when the highest gap exists.\n",
        "\n",
        "Find the types of requests (city-airport or airport-city) for which the gap is the most severe in the identified time slots.\n",
        "\n",
        "What do you think is the reason for this issue for the supply-demand gap? Write the answer in less than 100 words. You may accompany the write-up with plot(s).\n",
        "\n",
        "Recommend some ways to resolve the supply-demand gap."
      ]
    },
    {
      "cell_type": "code",
      "metadata": {
        "id": "zlqhC3AtiO63",
        "colab_type": "code",
        "colab": {}
      },
      "source": [
        "import numpy as np\n",
        "import pandas as pd\n",
        "import matplotlib.pyplot as plt\n",
        "import seaborn as sns\n",
        "import datetime as dt\n",
        "import io"
      ],
      "execution_count": 0,
      "outputs": []
    },
    {
      "cell_type": "markdown",
      "metadata": {
        "id": "klVU9FQbLOUD",
        "colab_type": "text"
      },
      "source": [
        "Reading the data from th dataset"
      ]
    },
    {
      "cell_type": "code",
      "metadata": {
        "id": "GxcVE_upEitt",
        "colab_type": "code",
        "colab": {}
      },
      "source": [
        "uber = pd.read_csv('Uber Request Data.csv')"
      ],
      "execution_count": 0,
      "outputs": []
    },
    {
      "cell_type": "markdown",
      "metadata": {
        "id": "loA7uIt6LUuJ",
        "colab_type": "text"
      },
      "source": [
        "The contents of the data set"
      ]
    },
    {
      "cell_type": "code",
      "metadata": {
        "id": "JdL_iVTImwso",
        "colab_type": "code",
        "outputId": "ec2c4296-e2d5-4f03-d659-9232ac1f0cb4",
        "colab": {
          "base_uri": "https://localhost:8080/",
          "height": 204
        }
      },
      "source": [
        "uber.head()"
      ],
      "execution_count": 0,
      "outputs": [
        {
          "output_type": "execute_result",
          "data": {
            "text/html": [
              "<div>\n",
              "<style scoped>\n",
              "    .dataframe tbody tr th:only-of-type {\n",
              "        vertical-align: middle;\n",
              "    }\n",
              "\n",
              "    .dataframe tbody tr th {\n",
              "        vertical-align: top;\n",
              "    }\n",
              "\n",
              "    .dataframe thead th {\n",
              "        text-align: right;\n",
              "    }\n",
              "</style>\n",
              "<table border=\"1\" class=\"dataframe\">\n",
              "  <thead>\n",
              "    <tr style=\"text-align: right;\">\n",
              "      <th></th>\n",
              "      <th>Request id</th>\n",
              "      <th>Pickup point</th>\n",
              "      <th>Driver id</th>\n",
              "      <th>Status</th>\n",
              "      <th>Request timestamp</th>\n",
              "      <th>Drop timestamp</th>\n",
              "    </tr>\n",
              "  </thead>\n",
              "  <tbody>\n",
              "    <tr>\n",
              "      <th>0</th>\n",
              "      <td>619</td>\n",
              "      <td>Airport</td>\n",
              "      <td>1.0</td>\n",
              "      <td>Trip Completed</td>\n",
              "      <td>11-07-2016 11:51</td>\n",
              "      <td>11-07-2016 13:00</td>\n",
              "    </tr>\n",
              "    <tr>\n",
              "      <th>1</th>\n",
              "      <td>867</td>\n",
              "      <td>Airport</td>\n",
              "      <td>1.0</td>\n",
              "      <td>Trip Completed</td>\n",
              "      <td>11-07-2016 17:57</td>\n",
              "      <td>11-07-2016 18:47</td>\n",
              "    </tr>\n",
              "    <tr>\n",
              "      <th>2</th>\n",
              "      <td>1807</td>\n",
              "      <td>City</td>\n",
              "      <td>1.0</td>\n",
              "      <td>Trip Completed</td>\n",
              "      <td>12-07-2016 09:17</td>\n",
              "      <td>12-07-2016 09:58</td>\n",
              "    </tr>\n",
              "    <tr>\n",
              "      <th>3</th>\n",
              "      <td>2532</td>\n",
              "      <td>Airport</td>\n",
              "      <td>1.0</td>\n",
              "      <td>Trip Completed</td>\n",
              "      <td>12-07-2016 21:08</td>\n",
              "      <td>12-07-2016 22:03</td>\n",
              "    </tr>\n",
              "    <tr>\n",
              "      <th>4</th>\n",
              "      <td>3112</td>\n",
              "      <td>City</td>\n",
              "      <td>1.0</td>\n",
              "      <td>Trip Completed</td>\n",
              "      <td>13-07-2016 08:33</td>\n",
              "      <td>13-07-2016 09:25</td>\n",
              "    </tr>\n",
              "  </tbody>\n",
              "</table>\n",
              "</div>"
            ],
            "text/plain": [
              "   Request id Pickup point  ...  Request timestamp    Drop timestamp\n",
              "0         619      Airport  ...   11-07-2016 11:51  11-07-2016 13:00\n",
              "1         867      Airport  ...   11-07-2016 17:57  11-07-2016 18:47\n",
              "2        1807         City  ...   12-07-2016 09:17  12-07-2016 09:58\n",
              "3        2532      Airport  ...   12-07-2016 21:08  12-07-2016 22:03\n",
              "4        3112         City  ...   13-07-2016 08:33  13-07-2016 09:25\n",
              "\n",
              "[5 rows x 6 columns]"
            ]
          },
          "metadata": {
            "tags": []
          },
          "execution_count": 15
        }
      ]
    },
    {
      "cell_type": "markdown",
      "metadata": {
        "id": "WhmiX3c2LawK",
        "colab_type": "text"
      },
      "source": [
        "The number of rows being the number of datas and number of columns"
      ]
    },
    {
      "cell_type": "code",
      "metadata": {
        "id": "Iyu2WSKHmzvG",
        "colab_type": "code",
        "outputId": "41418738-7e36-4e7c-b6a4-71e8c478752d",
        "colab": {
          "base_uri": "https://localhost:8080/",
          "height": 34
        }
      },
      "source": [
        "uber.shape"
      ],
      "execution_count": 0,
      "outputs": [
        {
          "output_type": "execute_result",
          "data": {
            "text/plain": [
              "(6745, 6)"
            ]
          },
          "metadata": {
            "tags": []
          },
          "execution_count": 16
        }
      ]
    },
    {
      "cell_type": "code",
      "metadata": {
        "id": "gtZ63IEpnbTe",
        "colab_type": "code",
        "outputId": "3f99283b-9905-4742-8b2d-25c943d317be",
        "colab": {
          "base_uri": "https://localhost:8080/",
          "height": 204
        }
      },
      "source": [
        "uber.info()"
      ],
      "execution_count": 0,
      "outputs": [
        {
          "output_type": "stream",
          "text": [
            "<class 'pandas.core.frame.DataFrame'>\n",
            "RangeIndex: 6745 entries, 0 to 6744\n",
            "Data columns (total 6 columns):\n",
            "Request id           6745 non-null int64\n",
            "Pickup point         6745 non-null object\n",
            "Driver id            4095 non-null float64\n",
            "Status               6745 non-null object\n",
            "Request timestamp    6745 non-null object\n",
            "Drop timestamp       2831 non-null object\n",
            "dtypes: float64(1), int64(1), object(4)\n",
            "memory usage: 316.2+ KB\n"
          ],
          "name": "stdout"
        }
      ]
    },
    {
      "cell_type": "markdown",
      "metadata": {
        "id": "zzqRdOIILxWO",
        "colab_type": "text"
      },
      "source": [
        "Describing the data "
      ]
    },
    {
      "cell_type": "code",
      "metadata": {
        "id": "5x9WuuKqvPf7",
        "colab_type": "code",
        "outputId": "559c0853-37cd-43d0-aa13-968c8efb7f07",
        "colab": {
          "base_uri": "https://localhost:8080/",
          "height": 297
        }
      },
      "source": [
        "uber.describe()"
      ],
      "execution_count": 0,
      "outputs": [
        {
          "output_type": "execute_result",
          "data": {
            "text/html": [
              "<div>\n",
              "<style scoped>\n",
              "    .dataframe tbody tr th:only-of-type {\n",
              "        vertical-align: middle;\n",
              "    }\n",
              "\n",
              "    .dataframe tbody tr th {\n",
              "        vertical-align: top;\n",
              "    }\n",
              "\n",
              "    .dataframe thead th {\n",
              "        text-align: right;\n",
              "    }\n",
              "</style>\n",
              "<table border=\"1\" class=\"dataframe\">\n",
              "  <thead>\n",
              "    <tr style=\"text-align: right;\">\n",
              "      <th></th>\n",
              "      <th>Request id</th>\n",
              "      <th>Driver id</th>\n",
              "    </tr>\n",
              "  </thead>\n",
              "  <tbody>\n",
              "    <tr>\n",
              "      <th>count</th>\n",
              "      <td>6745.000000</td>\n",
              "      <td>4095.000000</td>\n",
              "    </tr>\n",
              "    <tr>\n",
              "      <th>mean</th>\n",
              "      <td>3384.644922</td>\n",
              "      <td>149.501343</td>\n",
              "    </tr>\n",
              "    <tr>\n",
              "      <th>std</th>\n",
              "      <td>1955.099667</td>\n",
              "      <td>86.051994</td>\n",
              "    </tr>\n",
              "    <tr>\n",
              "      <th>min</th>\n",
              "      <td>1.000000</td>\n",
              "      <td>1.000000</td>\n",
              "    </tr>\n",
              "    <tr>\n",
              "      <th>25%</th>\n",
              "      <td>1691.000000</td>\n",
              "      <td>75.000000</td>\n",
              "    </tr>\n",
              "    <tr>\n",
              "      <th>50%</th>\n",
              "      <td>3387.000000</td>\n",
              "      <td>149.000000</td>\n",
              "    </tr>\n",
              "    <tr>\n",
              "      <th>75%</th>\n",
              "      <td>5080.000000</td>\n",
              "      <td>224.000000</td>\n",
              "    </tr>\n",
              "    <tr>\n",
              "      <th>max</th>\n",
              "      <td>6766.000000</td>\n",
              "      <td>300.000000</td>\n",
              "    </tr>\n",
              "  </tbody>\n",
              "</table>\n",
              "</div>"
            ],
            "text/plain": [
              "        Request id    Driver id\n",
              "count  6745.000000  4095.000000\n",
              "mean   3384.644922   149.501343\n",
              "std    1955.099667    86.051994\n",
              "min       1.000000     1.000000\n",
              "25%    1691.000000    75.000000\n",
              "50%    3387.000000   149.000000\n",
              "75%    5080.000000   224.000000\n",
              "max    6766.000000   300.000000"
            ]
          },
          "metadata": {
            "tags": []
          },
          "execution_count": 18
        }
      ]
    },
    {
      "cell_type": "markdown",
      "metadata": {
        "id": "U7cO6PNzw-1Y",
        "colab_type": "text"
      },
      "source": [
        "Checking for the duplicate values in the data set"
      ]
    },
    {
      "cell_type": "code",
      "metadata": {
        "id": "Tcd8qvqhw-N5",
        "colab_type": "code",
        "outputId": "d7c08a08-b633-4e17-ba2b-42eec542e22c",
        "colab": {
          "base_uri": "https://localhost:8080/",
          "height": 34
        }
      },
      "source": [
        "len(uber[uber.duplicated()].index)"
      ],
      "execution_count": 0,
      "outputs": [
        {
          "output_type": "execute_result",
          "data": {
            "text/plain": [
              "0"
            ]
          },
          "metadata": {
            "tags": []
          },
          "execution_count": 19
        }
      ]
    },
    {
      "cell_type": "markdown",
      "metadata": {
        "id": "a1QBZJs-suEs",
        "colab_type": "text"
      },
      "source": [
        "Inspecting the null values in the dataset"
      ]
    },
    {
      "cell_type": "code",
      "metadata": {
        "id": "CXoryIgDsiKq",
        "colab_type": "code",
        "outputId": "2d5b47e7-234e-4a9b-a0cc-3f3512828d5b",
        "colab": {
          "base_uri": "https://localhost:8080/",
          "height": 136
        }
      },
      "source": [
        "uber.isnull().sum(axis=0)"
      ],
      "execution_count": 0,
      "outputs": [
        {
          "output_type": "execute_result",
          "data": {
            "text/plain": [
              "Request id              0\n",
              "Pickup point            0\n",
              "Driver id            2650\n",
              "Status                  0\n",
              "Request timestamp       0\n",
              "Drop timestamp       3914\n",
              "dtype: int64"
            ]
          },
          "metadata": {
            "tags": []
          },
          "execution_count": 20
        }
      ]
    },
    {
      "cell_type": "markdown",
      "metadata": {
        "id": "fVymyADDpXi2",
        "colab_type": "text"
      },
      "source": [
        "Describing the number of drivers compared to total demands and completed number of trips per day"
      ]
    },
    {
      "cell_type": "code",
      "metadata": {
        "id": "hE4KaF6cm506",
        "colab_type": "code",
        "outputId": "537018df-c490-4f81-f5e7-e21fe0819f17",
        "colab": {
          "base_uri": "https://localhost:8080/",
          "height": 80
        }
      },
      "source": [
        "count = pd.DataFrame({'No.of Drivers':[uber['Driver id'].nunique()], \n",
        "                      'DemandPerDay':[uber['Request id'].nunique()/5],\n",
        "                      'Trips Completed Per Day':uber[(uber['Status']=='Trip Completed')].shape[0]/5})\n",
        "count"
      ],
      "execution_count": 0,
      "outputs": [
        {
          "output_type": "execute_result",
          "data": {
            "text/html": [
              "<div>\n",
              "<style scoped>\n",
              "    .dataframe tbody tr th:only-of-type {\n",
              "        vertical-align: middle;\n",
              "    }\n",
              "\n",
              "    .dataframe tbody tr th {\n",
              "        vertical-align: top;\n",
              "    }\n",
              "\n",
              "    .dataframe thead th {\n",
              "        text-align: right;\n",
              "    }\n",
              "</style>\n",
              "<table border=\"1\" class=\"dataframe\">\n",
              "  <thead>\n",
              "    <tr style=\"text-align: right;\">\n",
              "      <th></th>\n",
              "      <th>No.of Drivers</th>\n",
              "      <th>DemandPerDay</th>\n",
              "      <th>Trips Completed Per Day</th>\n",
              "    </tr>\n",
              "  </thead>\n",
              "  <tbody>\n",
              "    <tr>\n",
              "      <th>0</th>\n",
              "      <td>300</td>\n",
              "      <td>1349.0</td>\n",
              "      <td>566.2</td>\n",
              "    </tr>\n",
              "  </tbody>\n",
              "</table>\n",
              "</div>"
            ],
            "text/plain": [
              "   No.of Drivers  DemandPerDay  Trips Completed Per Day\n",
              "0            300        1349.0                    566.2"
            ]
          },
          "metadata": {
            "tags": []
          },
          "execution_count": 21
        }
      ]
    },
    {
      "cell_type": "markdown",
      "metadata": {
        "id": "Lzuk6O9g2vS2",
        "colab_type": "text"
      },
      "source": [
        "Driver who has the maximum number of trips"
      ]
    },
    {
      "cell_type": "code",
      "metadata": {
        "id": "kjaxvq9O2qe5",
        "colab_type": "code",
        "outputId": "fd435836-efba-4280-b3f6-d8985a45add8",
        "colab": {
          "base_uri": "https://localhost:8080/",
          "height": 34
        }
      },
      "source": [
        "drivermax = uber['Driver id'].value_counts()\n",
        "print(\"The driver id: \", drivermax.index[0], \"  number of trips:\", drivermax.iloc[0]);"
      ],
      "execution_count": 0,
      "outputs": [
        {
          "output_type": "stream",
          "text": [
            "The driver id:  27.0   number of trips: 22\n"
          ],
          "name": "stdout"
        }
      ]
    },
    {
      "cell_type": "markdown",
      "metadata": {
        "id": "m1bqRJAqrqDv",
        "colab_type": "text"
      },
      "source": [
        "Calculating the average for the number of demands to the available drivers"
      ]
    },
    {
      "cell_type": "code",
      "metadata": {
        "id": "07fEbstZnLqM",
        "colab_type": "code",
        "outputId": "09fc9971-285b-4ff8-bf51-3ec9cf007349",
        "colab": {
          "base_uri": "https://localhost:8080/",
          "height": 51
        }
      },
      "source": [
        "avg=count['DemandPerDay']/count['No.of Drivers']\n",
        "avg"
      ],
      "execution_count": 0,
      "outputs": [
        {
          "output_type": "execute_result",
          "data": {
            "text/plain": [
              "0    4.496667\n",
              "dtype: float64"
            ]
          },
          "metadata": {
            "tags": []
          },
          "execution_count": 25
        }
      ]
    },
    {
      "cell_type": "markdown",
      "metadata": {
        "id": "XDxmugQG3C9i",
        "colab_type": "text"
      },
      "source": [
        "Frequency of status"
      ]
    },
    {
      "cell_type": "markdown",
      "metadata": {
        "id": "JS3rM2Jl0oSW",
        "colab_type": "text"
      },
      "source": [
        "Request and drop time is formatted to time format"
      ]
    },
    {
      "cell_type": "code",
      "metadata": {
        "id": "B5-DBAzdrm8R",
        "colab_type": "code",
        "colab": {}
      },
      "source": [
        "uber[\"Request timestamp\"] = pd.to_datetime(uber[\"Request timestamp\"], dayfirst=True)\n",
        "uber[\"Drop timestamp\"] = pd.to_datetime(uber[\"Drop timestamp\"], dayfirst=True)\n",
        "uber['Request_Weekday'] = uber['Request timestamp'].apply(lambda x: dt.datetime.strftime(x, '%A'))\n",
        "uber['Request_Hour'] = uber['Request timestamp'].apply(lambda x: x.hour)"
      ],
      "execution_count": 0,
      "outputs": []
    },
    {
      "cell_type": "code",
      "metadata": {
        "id": "WNoKg-8krcmf",
        "colab_type": "code",
        "outputId": "161200f0-4a41-41eb-f6de-2a310e3e6f6f",
        "colab": {
          "base_uri": "https://localhost:8080/",
          "height": 204
        }
      },
      "source": [
        "uber.head()"
      ],
      "execution_count": 0,
      "outputs": [
        {
          "output_type": "execute_result",
          "data": {
            "text/html": [
              "<div>\n",
              "<style scoped>\n",
              "    .dataframe tbody tr th:only-of-type {\n",
              "        vertical-align: middle;\n",
              "    }\n",
              "\n",
              "    .dataframe tbody tr th {\n",
              "        vertical-align: top;\n",
              "    }\n",
              "\n",
              "    .dataframe thead th {\n",
              "        text-align: right;\n",
              "    }\n",
              "</style>\n",
              "<table border=\"1\" class=\"dataframe\">\n",
              "  <thead>\n",
              "    <tr style=\"text-align: right;\">\n",
              "      <th></th>\n",
              "      <th>Request id</th>\n",
              "      <th>Pickup point</th>\n",
              "      <th>Driver id</th>\n",
              "      <th>Status</th>\n",
              "      <th>Request timestamp</th>\n",
              "      <th>Drop timestamp</th>\n",
              "      <th>Request_Weekday</th>\n",
              "      <th>Request_Hour</th>\n",
              "    </tr>\n",
              "  </thead>\n",
              "  <tbody>\n",
              "    <tr>\n",
              "      <th>0</th>\n",
              "      <td>619</td>\n",
              "      <td>Airport</td>\n",
              "      <td>1.0</td>\n",
              "      <td>Trip Completed</td>\n",
              "      <td>2016-07-11 11:51:00</td>\n",
              "      <td>2016-07-11 13:00:00</td>\n",
              "      <td>Monday</td>\n",
              "      <td>11</td>\n",
              "    </tr>\n",
              "    <tr>\n",
              "      <th>1</th>\n",
              "      <td>867</td>\n",
              "      <td>Airport</td>\n",
              "      <td>1.0</td>\n",
              "      <td>Trip Completed</td>\n",
              "      <td>2016-07-11 17:57:00</td>\n",
              "      <td>2016-07-11 18:47:00</td>\n",
              "      <td>Monday</td>\n",
              "      <td>17</td>\n",
              "    </tr>\n",
              "    <tr>\n",
              "      <th>2</th>\n",
              "      <td>1807</td>\n",
              "      <td>City</td>\n",
              "      <td>1.0</td>\n",
              "      <td>Trip Completed</td>\n",
              "      <td>2016-07-12 09:17:00</td>\n",
              "      <td>2016-07-12 09:58:00</td>\n",
              "      <td>Tuesday</td>\n",
              "      <td>9</td>\n",
              "    </tr>\n",
              "    <tr>\n",
              "      <th>3</th>\n",
              "      <td>2532</td>\n",
              "      <td>Airport</td>\n",
              "      <td>1.0</td>\n",
              "      <td>Trip Completed</td>\n",
              "      <td>2016-07-12 21:08:00</td>\n",
              "      <td>2016-07-12 22:03:00</td>\n",
              "      <td>Tuesday</td>\n",
              "      <td>21</td>\n",
              "    </tr>\n",
              "    <tr>\n",
              "      <th>4</th>\n",
              "      <td>3112</td>\n",
              "      <td>City</td>\n",
              "      <td>1.0</td>\n",
              "      <td>Trip Completed</td>\n",
              "      <td>2016-07-13 08:33:00</td>\n",
              "      <td>2016-07-13 09:25:00</td>\n",
              "      <td>Wednesday</td>\n",
              "      <td>8</td>\n",
              "    </tr>\n",
              "  </tbody>\n",
              "</table>\n",
              "</div>"
            ],
            "text/plain": [
              "   Request id Pickup point  ...  Request_Weekday Request_Hour\n",
              "0         619      Airport  ...           Monday           11\n",
              "1         867      Airport  ...           Monday           17\n",
              "2        1807         City  ...          Tuesday            9\n",
              "3        2532      Airport  ...          Tuesday           21\n",
              "4        3112         City  ...        Wednesday            8\n",
              "\n",
              "[5 rows x 8 columns]"
            ]
          },
          "metadata": {
            "tags": []
          },
          "execution_count": 27
        }
      ]
    },
    {
      "cell_type": "code",
      "metadata": {
        "id": "-WlMp6uO2-_X",
        "colab_type": "code",
        "outputId": "901728c9-c101-4591-eef1-9a6546109801",
        "colab": {
          "base_uri": "https://localhost:8080/",
          "height": 85
        }
      },
      "source": [
        "uber['Status'].value_counts()"
      ],
      "execution_count": 0,
      "outputs": [
        {
          "output_type": "execute_result",
          "data": {
            "text/plain": [
              "Trip Completed       2831\n",
              "No Cars Available    2650\n",
              "Cancelled            1264\n",
              "Name: Status, dtype: int64"
            ]
          },
          "metadata": {
            "tags": []
          },
          "execution_count": 28
        }
      ]
    },
    {
      "cell_type": "code",
      "metadata": {
        "id": "Vh1PW95O5AbU",
        "colab_type": "code",
        "outputId": "f84232dc-7ed5-4816-80f4-a0de8b02ef5a",
        "colab": {
          "base_uri": "https://localhost:8080/",
          "height": 404
        }
      },
      "source": [
        "plt.figure(figsize=(6,6))\n",
        "sns.countplot(x=uber['Status'])\n",
        "sns.set_style(\"dark\")\n",
        "plt.title(\"Status Frequency\")\n",
        "plt.xlabel(\"Status\")\n",
        "plt.ylabel(\"Frequency\")\n",
        "plt.show()"
      ],
      "execution_count": 0,
      "outputs": [
        {
          "output_type": "display_data",
          "data": {
            "image/png": "[encoded data removed]",
            "text/plain": [
              "<Figure size 432x432 with 1 Axes>"
            ]
          },
          "metadata": {
            "tags": []
          }
        }
      ]
    },
    {
      "cell_type": "code",
      "metadata": {
        "id": "D4fEUnAw8-AO",
        "colab_type": "code",
        "outputId": "e3b5fc76-b346-4126-c794-f62ab30d6dbf",
        "colab": {
          "base_uri": "https://localhost:8080/",
          "height": 324
        }
      },
      "source": [
        "pick_pnt = pd.crosstab(index = uber[\"Pickup point\"], columns=\"count\")     \n",
        "pick_pnt.plot.bar()"
      ],
      "execution_count": 0,
      "outputs": [
        {
          "output_type": "execute_result",
          "data": {
            "text/plain": [
              "<matplotlib.axes._subplots.AxesSubplot at 0x7fb234efdef0>"
            ]
          },
          "metadata": {
            "tags": []
          },
          "execution_count": 30
        },
        {
          "output_type": "display_data",
          "data": {
            "image/png": "[encoded data removed]",
            "text/plain": [
              "<Figure size 432x288 with 1 Axes>"
            ]
          },
          "metadata": {
            "tags": []
          }
        }
      ]
    },
    {
      "cell_type": "markdown",
      "metadata": {
        "id": "f-65rWhB4Qlx",
        "colab_type": "text"
      },
      "source": [
        "Plot for day with respect to Weekday"
      ]
    },
    {
      "cell_type": "code",
      "metadata": {
        "id": "HLSqJx0H539j",
        "colab_type": "code",
        "outputId": "852a72b5-10ac-4afb-f5c6-5d9c92a410d9",
        "colab": {
          "base_uri": "https://localhost:8080/",
          "height": 476
        }
      },
      "source": [
        "fig, ax = plt.subplots(figsize=(15,7))\n",
        "plt.title(\"Weekday_Trips\")\n",
        "ax = sns.countplot(x='Request_Weekday',hue='Status',data=uber)\n",
        "plt.legend(bbox_to_anchor=(1.17, 0.5), loc='right')"
      ],
      "execution_count": 0,
      "outputs": [
        {
          "output_type": "execute_result",
          "data": {
            "text/plain": [
              "<matplotlib.legend.Legend at 0x7fb2326d3908>"
            ]
          },
          "metadata": {
            "tags": []
          },
          "execution_count": 31
        },
        {
          "output_type": "display_data",
          "data": {
            "image/png": "[encoded data removed]",
            "text/plain": [
              "<Figure size 1080x504 with 1 Axes>"
            ]
          },
          "metadata": {
            "tags": []
          }
        }
      ]
    },
    {
      "cell_type": "markdown",
      "metadata": {
        "id": "5Smt2Zt73v6z",
        "colab_type": "text"
      },
      "source": [
        " Extract hour from request timestamp.\n",
        " Extract hour from drop timestamp.\n",
        " \n",
        "####Plot of hour and day with respect to status"
      ]
    },
    {
      "cell_type": "code",
      "metadata": {
        "id": "NsOuoivA1fzX",
        "colab_type": "code",
        "colab": {}
      },
      "source": [
        "\n",
        "rqhour = uber[\"Request timestamp\"].dt.hour\n",
        "rqhour.head()\n",
        "rqhour.value_counts()\n",
        "uber[\"rqhour\"] = rqhour\n",
        "\n",
        "rqday = uber[\"Request timestamp\"].dt.day\n",
        "rqday.head()\n",
        "rqday.value_counts()\n",
        "uber[\"rqday\"] = rqday"
      ],
      "execution_count": 0,
      "outputs": []
    },
    {
      "cell_type": "code",
      "metadata": {
        "id": "hHIZZ9NU34At",
        "colab_type": "code",
        "outputId": "2f971267-61b8-464f-bf82-f5fcc1d95b14",
        "colab": {
          "base_uri": "https://localhost:8080/",
          "height": 1000
        }
      },
      "source": [
        "\n",
        "sns.factorplot(x = \"rqhour\", hue = \"Status\", row = \"rqday\", data = uber, kind = \"count\")"
      ],
      "execution_count": 0,
      "outputs": [
        {
          "output_type": "stream",
          "text": [
            "/usr/local/lib/python3.6/dist-packages/seaborn/categorical.py:3666: UserWarning: The `factorplot` function has been renamed to `catplot`. The original name will be removed in a future release. Please update your code. Note that the default `kind` in `factorplot` (`'point'`) has changed `'strip'` in `catplot`.\n",
            "  warnings.warn(msg)\n"
          ],
          "name": "stderr"
        },
        {
          "output_type": "execute_result",
          "data": {
            "text/plain": [
              "<seaborn.axisgrid.FacetGrid at 0x7fb23267f0b8>"
            ]
          },
          "metadata": {
            "tags": []
          },
          "execution_count": 33
        },
        {
          "output_type": "display_data",
          "data": {
            "image/png": "[encoded data removed]",
            "text/plain": [
              "<Figure size 484.125x1800 with 5 Axes>"
            ]
          },
          "metadata": {
            "tags": []
          }
        }
      ]
    },
    {
      "cell_type": "markdown",
      "metadata": {
        "id": "0DKeadk7Os0v",
        "colab_type": "text"
      },
      "source": [
        "Plot indicating the availability and complition of trips in both airport and city"
      ]
    },
    {
      "cell_type": "code",
      "metadata": {
        "id": "92VMh76n7zW0",
        "colab_type": "code",
        "outputId": "46139696-2815-482d-a91f-7b29a3b990ea",
        "colab": {
          "base_uri": "https://localhost:8080/",
          "height": 301
        }
      },
      "source": [
        "sns.countplot(x=uber['Pickup point'],hue =uber['Status'] ,data = uber)"
      ],
      "execution_count": 0,
      "outputs": [
        {
          "output_type": "execute_result",
          "data": {
            "text/plain": [
              "<matplotlib.axes._subplots.AxesSubplot at 0x7fb232111a90>"
            ]
          },
          "metadata": {
            "tags": []
          },
          "execution_count": 34
        },
        {
          "output_type": "display_data",
          "data": {
            "image/png": "[encoded data removed]",
            "text/plain": [
              "<Figure size 432x288 with 1 Axes>"
            ]
          },
          "metadata": {
            "tags": []
          }
        }
      ]
    },
    {
      "cell_type": "markdown",
      "metadata": {
        "id": "ofXi9T-MQHFk",
        "colab_type": "text"
      },
      "source": [
        "The gap between the demand and supply in both airport and city\n"
      ]
    },
    {
      "cell_type": "code",
      "metadata": {
        "id": "6cueMlIE7URe",
        "colab_type": "code",
        "colab": {}
      },
      "source": [
        "\n",
        "uber['Demand'] = 1\n",
        "uber['Supply'] = 0\n",
        "uber.loc[(uber['Status'] == 'Trip Completed'),'Supply'] = 1\n",
        "\n",
        "uber['Gap'] = uber['Demand'] - uber['Supply']\n",
        "gap_pickup_df = pd.DataFrame(uber.groupby(['Pickup point','Gap'])['Request id'].count().unstack(fill_value=0))\n"
      ],
      "execution_count": 0,
      "outputs": []
    },
    {
      "cell_type": "code",
      "metadata": {
        "id": "zUjNl8ir4YNm",
        "colab_type": "code",
        "outputId": "85af696d-ed97-4249-e804-bcf67c8639c4",
        "colab": {
          "base_uri": "https://localhost:8080/",
          "height": 513
        }
      },
      "source": [
        "city = uber[uber['Pickup point']==\"City\"]\n",
        "airport = uber[uber['Pickup point']==\"Airport\"]\n",
        "f = plt.figure(figsize=(14,7))\n",
        "plt.subplot(2,1,1)\n",
        "plt.title(\"City to Airport\")\n",
        "sns.countplot(x='rqhour',hue='Status',data=city)\n",
        "plt.legend(bbox_to_anchor=(1.20, 0.5), loc='right')\n",
        "plt.subplot(2,1,2)\n",
        "plt.title(\"Airport to city\")\n",
        "sns.countplot(x='rqhour',hue='Status',data=airport)\n",
        "plt.legend(bbox_to_anchor=(1.20, 0.5), loc='right')\n",
        "plt.tight_layout()"
      ],
      "execution_count": 0,
      "outputs": [
        {
          "output_type": "display_data",
          "data": {
            "image/png": "[encoded data removed]",
            "text/plain": [
              "<Figure size 1008x504 with 2 Axes>"
            ]
          },
          "metadata": {
            "tags": []
          }
        }
      ]
    },
    {
      "cell_type": "markdown",
      "metadata": {
        "id": "ogFssdT8QY9M",
        "colab_type": "text"
      },
      "source": [
        "####Conclusion\n",
        "In the morning period the number of cars can be increased from airport to city so that the number of cars for city to airport cancellation can be reduced.\n",
        "\n",
        "Start directing cabs from city towards the airport starting late afternoon to increase supply at the high demand hours of evening and night"
      ]
    },
    {
      "cell_type": "code",
      "metadata": {
        "id": "oBaRKA93_pNb",
        "colab_type": "code",
        "colab": {}
      },
      "source": [
        ""
      ],
      "execution_count": 0,
      "outputs": []
    }
  ]
}